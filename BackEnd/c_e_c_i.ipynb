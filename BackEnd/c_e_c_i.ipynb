{
  "nbformat": 4,
  "nbformat_minor": 0,
  "metadata": {
    "colab": {
      "name": "c.e.c.i.ipynb",
      "version": "0.3.2",
      "provenance": []
    },
    "kernelspec": {
      "name": "python3",
      "display_name": "Python 3"
    }
  },
  "cells": [
    {
      "metadata": {
        "id": "i6u-md5eDmk0",
        "colab_type": "code",
        "colab": {}
      },
      "cell_type": "code",
      "source": [
        "# IMPORTAR LIBRERIAS\n",
        "\n",
        "import numpy as np\n",
        "import pandas as pd\n",
        "import matplotlib as mt\n",
        "import sklearn as sk\n",
        "import tensorflow as tf"
      ],
      "execution_count": 0,
      "outputs": []
    }
  ]
}